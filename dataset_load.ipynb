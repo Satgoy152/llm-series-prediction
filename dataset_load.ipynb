{
 "cells": [
  {
   "cell_type": "code",
   "execution_count": 1,
   "metadata": {},
   "outputs": [],
   "source": [
    "# Downloaed dataset from https://libdrive.ethz.ch/index.php/s/nWYweUM7uwEcfOG#editor\n",
    "\n",
    "import os\n",
    "import numpy as np\n",
    "import pandas as pd\n",
    "\n",
    "data_path = './data'\n",
    "\n",
    "data_training = pd.read_pickle(os.path.join(data_path, 'dataset.pickle'))\n",
    "data_test_oeis = pd.read_pickle(os.path.join(data_path, 'testset_oeis.pickle'))\n",
    "data_test_synth = pd.read_pickle(os.path.join(data_path, 'testset_synth.pickle'))"
   ]
  },
  {
   "cell_type": "code",
   "execution_count": 13,
   "metadata": {},
   "outputs": [],
   "source": [
    "for sequence in data_training['sequence']:\n",
    "    print(sequence)\n"
   ]
  }
 ],
 "metadata": {
  "kernelspec": {
   "display_name": "Python 3",
   "language": "python",
   "name": "python3"
  },
  "language_info": {
   "codemirror_mode": {
    "name": "ipython",
    "version": 3
   },
   "file_extension": ".py",
   "mimetype": "text/x-python",
   "name": "python",
   "nbconvert_exporter": "python",
   "pygments_lexer": "ipython3",
   "version": "3.10.9"
  }
 },
 "nbformat": 4,
 "nbformat_minor": 2
}
