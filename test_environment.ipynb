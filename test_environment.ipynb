{
 "cells": [
  {
   "cell_type": "code",
   "execution_count": 8,
   "metadata": {},
   "outputs": [],
   "source": [
    "# Example: reuse your existing OpenAI setup\n",
    "from openai import OpenAI\n",
    "\n",
    "# Point to the local server\n",
    "client = OpenAI(base_url=\"http://localhost:1234/v1\", api_key=\"lm-studio\")\n",
    "\n",
    "completion = client.chat.completions.create(\n",
    "  model=\"QuantFactory/Meta-Llama-3-8B-Instruct-GGUF\",\n",
    "  messages=[\n",
    "    {\"role\": \"user\", \"content\": \"1, 2, 3, 4, 5, 6, 7, 8, 9, 10, 11, 12, 13, 14, 15\"}\n",
    "  ],\n",
    "  temperature=0.7,\n",
    ")\n",
    "\n",
    "message = completion.choices[0].message"
   ]
  },
  {
   "cell_type": "code",
   "execution_count": 6,
   "metadata": {},
   "outputs": [],
   "source": [
    "# load the csv\n",
    "import pandas as pd\n",
    "\n",
    "df = pd.read_csv('common_series.csv')\n",
    "df = df.dropna()\n",
    "\n",
    "# get the series\n",
    "series = df['Terms'].tolist()"
   ]
  },
  {
   "cell_type": "code",
   "execution_count": 17,
   "metadata": {},
   "outputs": [
    {
     "name": "stdout",
     "output_type": "stream",
     "text": [
      "ChatCompletionMessage(content='Arithmetic Sequence: a + (n-1)d', role='assistant', function_call=None, tool_calls=None)\n",
      "ChatCompletionMessage(content='The series is: Triangular Numbers (n*(n+1)/2)', role='assistant', function_call=None, tool_calls=None)\n",
      "ChatCompletionMessage(content='The series is:\\n\\nn^2', role='assistant', function_call=None, tool_calls=None)\n",
      "ChatCompletionMessage(content='The series is: n^3', role='assistant', function_call=None, tool_calls=None)\n",
      "ChatCompletionMessage(content='Fibonacci series: F(n) = F(n-1) + F(n-2)', role='assistant', function_call=None, tool_calls=None)\n",
      "ChatCompletionMessage(content='2n+1', role='assistant', function_call=None, tool_calls=None)\n",
      "ChatCompletionMessage(content='The series is: 2^n (where n is an integer starting from 0)', role='assistant', function_call=None, tool_calls=None)\n",
      "ChatCompletionMessage(content='Arithmetic sequence with formula: an = 1/n, where n is the nth term.', role='assistant', function_call=None, tool_calls=None)\n",
      "ChatCompletionMessage(content='Factorial: n!', role='assistant', function_call=None, tool_calls=None)\n",
      "ChatCompletionMessage(content='Catalan number sequence: C(n) = (2n)!/((n+1)!*n!)', role='assistant', function_call=None, tool_calls=None)\n",
      "ChatCompletionMessage(content='Fibonacci sequence: F(n) = F(n-1) + F(n-2)', role='assistant', function_call=None, tool_calls=None)\n",
      "ChatCompletionMessage(content='Catalan Numbers: C(n) = (2n)! / ((n+1)! * n!)', role='assistant', function_call=None, tool_calls=None)\n",
      "ChatCompletionMessage(content='Arithmetic sequence: n = 3 + (n-1) * 2', role='assistant', function_call=None, tool_calls=None)\n",
      "ChatCompletionMessage(content='Triangular numbers: n*(n+1)/2', role='assistant', function_call=None, tool_calls=None)\n",
      "ChatCompletionMessage(content='Catalan Numbers (Formula: C(2n)!/(n!*(2n-n)!))', role='assistant', function_call=None, tool_calls=None)\n"
     ]
    }
   ],
   "source": [
    "gpt_responses = []\n",
    "for terms in series:\n",
    "    completion = client.chat.completions.create(\n",
    "    model=\"QuantFactory/Meta-Llama-3-8B-Instruct-GGUF\",\n",
    "    messages=[\n",
    "      {\"role\": \"user\", \"content\": terms}\n",
    "    ],\n",
    "    temperature=0.7,\n",
    "    )\n",
    "    print(completion.choices[0].message)\n",
    "    gpt_responses.append(completion.choices[0].message.content)\n"
   ]
  },
  {
   "cell_type": "code",
   "execution_count": 15,
   "metadata": {},
   "outputs": [],
   "source": [
    "# insert the responses into the dataframe\n",
    "df['GPT-3 Responses'] = gpt_responses\n",
    "# save to csv\n",
    "df.to_csv('common_series_with_gpt_responses.csv', index=False)"
   ]
  }
 ],
 "metadata": {
  "kernelspec": {
   "display_name": "sql_llm",
   "language": "python",
   "name": "python3"
  },
  "language_info": {
   "codemirror_mode": {
    "name": "ipython",
    "version": 3
   },
   "file_extension": ".py",
   "mimetype": "text/x-python",
   "name": "python",
   "nbconvert_exporter": "python",
   "pygments_lexer": "ipython3",
   "version": "3.11.9"
  }
 },
 "nbformat": 4,
 "nbformat_minor": 2
}
